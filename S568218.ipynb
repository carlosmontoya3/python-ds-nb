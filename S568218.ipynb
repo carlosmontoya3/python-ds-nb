{
 "cells": [
  {
   "cell_type": "markdown",
   "id": "e55fd716-2496-40f2-b6ee-f8c6aa57598c",
   "metadata": {},
   "source": [
    "# Web Mining and Applied NLP (44-620)\n",
    "\n",
    "## Python Notebooks, Basics, and Data Structures\n",
    "\n",
    "### Student Name: Carlos Montoya III\n",
    "#### Github repo link: https://github.com/carlosmontoya3/python-ds-nb"
   ]
  },
  {
   "cell_type": "markdown",
   "id": "1c9d16a9-69c2-40d7-b0a5-4b16cc410188",
   "metadata": {
    "tags": []
   },
   "source": [
    "10. Create a new Jupyter Notebook (the name of the notebook should be your S number). Add a Markdown cell that contains your name. Add a Code cell and write Python that uses loops to draw the following pattern:\n",
    "\n",
    "```\n",
    "*      *\n",
    "**    **\n",
    "***  ***\n",
    "********\n",
    "```\n",
    "Make sure to add and submit both the new notebook and the changes to this notebook for this assignment."
   ]
  },
  {
   "cell_type": "markdown",
   "id": "e4e1f940-69e9-4dd8-83f6-dbd63d79afc3",
   "metadata": {},
   "source": [
    "### **Question 10 Answer:**"
   ]
  },
  {
   "cell_type": "code",
   "execution_count": 1,
   "id": "72edbcdd-278c-4931-9de1-c1d97ee081f1",
   "metadata": {
    "tags": []
   },
   "outputs": [
    {
     "name": "stdout",
     "output_type": "stream",
     "text": [
      "*      *\n",
      "**    **\n",
      "***  ***\n",
      "********\n"
     ]
    }
   ],
   "source": [
    "H = 4\n",
    "\n",
    "\n",
    "for i in range(1, H + 1):\n",
    "    \n",
    "    left_side = '*' * i\n",
    "    \n",
    "    spaces = ' ' * (2 * (H - i))\n",
    "    \n",
    "    right_side = '*' * i\n",
    "    \n",
    "    print(left_side + spaces + right_side)"
   ]
  }
 ],
 "metadata": {
  "kernelspec": {
   "display_name": "Python 3 (ipykernel)",
   "language": "python",
   "name": "python3"
  },
  "language_info": {
   "codemirror_mode": {
    "name": "ipython",
    "version": 3
   },
   "file_extension": ".py",
   "mimetype": "text/x-python",
   "name": "python",
   "nbconvert_exporter": "python",
   "pygments_lexer": "ipython3",
   "version": "3.11.5"
  }
 },
 "nbformat": 4,
 "nbformat_minor": 5
}
